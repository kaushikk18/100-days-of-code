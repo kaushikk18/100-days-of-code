{
  "nbformat": 4,
  "nbformat_minor": 0,
  "metadata": {
    "colab": {
      "name": "DM.ipynb",
      "provenance": [],
      "authorship_tag": "ABX9TyMPO03+riQrogbx0xVefyBn",
      "include_colab_link": true
    },
    "kernelspec": {
      "name": "python3",
      "display_name": "Python 3"
    },
    "language_info": {
      "name": "python"
    }
  },
  "cells": [
    {
      "cell_type": "markdown",
      "metadata": {
        "id": "view-in-github",
        "colab_type": "text"
      },
      "source": [
        "<a href=\"https://colab.research.google.com/github/kaushikk18/100-days-of-code/blob/main/DM.ipynb\" target=\"_parent\"><img src=\"https://colab.research.google.com/assets/colab-badge.svg\" alt=\"Open In Colab\"/></a>"
      ]
    },
    {
      "cell_type": "markdown",
      "source": [
        "\n",
        "DFS\n"
      ],
      "metadata": {
        "id": "0YszUCie2KnR"
      }
    },
    {
      "cell_type": "code",
      "execution_count": 1,
      "metadata": {
        "colab": {
          "base_uri": "https://localhost:8080/",
          "height": 354
        },
        "id": "q5oeBdyDobCL",
        "outputId": "38fa9e72-fb2d-4d1c-e099-5b16c2d8f046"
      },
      "outputs": [
        {
          "output_type": "stream",
          "name": "stdout",
          "text": [
            "Following is DFS from (starting from vertex A)\n",
            "A B D F E C G "
          ]
        },
        {
          "output_type": "display_data",
          "data": {
            "image/png": "[encoded data removed]",
            "text/plain": [
              "<Figure size 432x288 with 1 Axes>"
            ]
          },
          "metadata": {}
        }
      ],
      "source": [
        "import networkx as nx\n",
        "\n",
        "#FUNCTION TO SOLVE DFS\n",
        "def solveDFS(graph, v, visited) :\n",
        "  visited.add(v) # Add the current element node to visited (visited is of type set)\n",
        "  print(v, end=' ') # Print the current node\n",
        "  for neighbour in graph[v] : # Traverse through all neighbours of current node\n",
        "    if neighbour not in visited : # Check whether the neighbour is not in visited\n",
        "      solveDFS(graph, neighbour, visited) # If yes, then repeat the above same steps for that neighbour\n",
        "g = nx.DiGraph() # Create a Directed Graph using NetworkX\n",
        "\n",
        "#CREATE A GRAPH USING NETWORKX\n",
        "g.add_edges_from([('A','B'),('A','C'),('C','G'),('B','D'),('B','E'),('D','F'),('A','E')]) # Add edges for that graph\n",
        "nx.draw(g, with_labels=True) # Graph Visualization\n",
        "\n",
        "#SOLVE DFS FOR THAT GRAPH\n",
        "print(\"Following is DFS from (starting from vertex A)\")\n",
        "visited = set()\n",
        "solveDFS(g, 'A', visited)"
      ]
    },
    {
      "cell_type": "markdown",
      "source": [
        "Water jug problem"
      ],
      "metadata": {
        "id": "2bzuSFBBHGYb"
      }
    },
    {
      "cell_type": "code",
      "source": [
        "\n",
        "# This function is used to initialize the \n",
        "# dictionary elements with a default value.\n",
        "from collections import defaultdict\n",
        "  \n",
        "# jug1 and jug2 contain the value \n",
        "# for max capacity in respective jugs \n",
        "# and aim is the amount of water to be measured. \n",
        "jug1, jug2, aim = 4, 3, 2\n",
        "  \n",
        "# Initialize dictionary with \n",
        "# default value as false.\n",
        "visited = defaultdict(lambda: False)\n",
        "  \n",
        "# Recursive function which prints the \n",
        "# intermediate steps to reach the final \n",
        "# solution and return boolean value \n",
        "# (True if solution is possible, otherwise False).\n",
        "# amt1 and amt2 are the amount of water present \n",
        "# in both jugs at a certain point of time.\n",
        "def waterJugSolver(amt1, amt2): \n",
        "  \n",
        "    # Checks for our goal and \n",
        "    # returns true if achieved.\n",
        "    if (amt1 == aim and amt2 == 0) or (amt2 == aim and amt1 == 0):\n",
        "        print(amt1, amt2)\n",
        "        return True\n",
        "      \n",
        "    # Checks if we have already visited the\n",
        "    # combination or not. If not, then it proceeds further.\n",
        "    if visited[(amt1, amt2)] == False:\n",
        "        print(amt1, amt2)\n",
        "      \n",
        "        # Changes the boolean value of\n",
        "        # the combination as it is visited. \n",
        "        visited[(amt1, amt2)] = True\n",
        "      \n",
        "        # Check for all the 6 possibilities and \n",
        "        # see if a solution is found in any one of them.\n",
        "        return (waterJugSolver(0, amt2) or\n",
        "                waterJugSolver(amt1, 0) or\n",
        "                waterJugSolver(jug1, amt2) or\n",
        "                waterJugSolver(amt1, jug2) or\n",
        "                waterJugSolver(amt1 + min(amt2, (jug1-amt1)),\n",
        "                amt2 - min(amt2, (jug1-amt1))) or\n",
        "                waterJugSolver(amt1 - min(amt1, (jug2-amt2)),\n",
        "                amt2 + min(amt1, (jug2-amt2))))\n",
        "      \n",
        "    # Return False if the combination is \n",
        "    # already visited to avoid repetition otherwise\n",
        "    # recursion will enter an infinite loop.\n",
        "    else:\n",
        "        return False\n",
        "  \n",
        "print(\"Steps: \")\n",
        "  \n",
        "# Call the function and pass the\n",
        "# initial amount of water present in both jugs.\n",
        "waterJugSolver(0, 0)"
      ],
      "metadata": {
        "colab": {
          "base_uri": "https://localhost:8080/"
        },
        "id": "pomREeGOpVry",
        "outputId": "8e4142bf-2b54-48d9-cefb-49d3821890d3"
      },
      "execution_count": 2,
      "outputs": [
        {
          "output_type": "stream",
          "name": "stdout",
          "text": [
            "Steps: \n",
            "0 0\n",
            "4 0\n",
            "4 3\n",
            "0 3\n",
            "3 0\n",
            "3 3\n",
            "4 2\n",
            "0 2\n"
          ]
        },
        {
          "output_type": "execute_result",
          "data": {
            "text/plain": [
              "True"
            ]
          },
          "metadata": {},
          "execution_count": 2
        }
      ]
    },
    {
      "cell_type": "markdown",
      "source": [
        "8-queen"
      ],
      "metadata": {
        "id": "pbAuJl1HHOPW"
      }
    },
    {
      "cell_type": "code",
      "source": [
        "import itertools\n",
        "N=int(input(\"4/8\"))\n",
        "sol=0\n",
        "cols=range(N)\n",
        "\n",
        "for entry in itertools.permutations(cols):\n",
        "\n",
        "  if N==(len(set(entry[j]+j for j in cols)))==(len(set(entry[j]-j for j in cols))):\n",
        "\n",
        "    sol+=1\n",
        "    print(f\"Solution {sol} : {entry}\")\n",
        "    print('\\n'.join('x'*i+'Q'+'x'*(N-i-1) for i in entry)+\"\\n\\n\\n\")"
      ],
      "metadata": {
        "colab": {
          "base_uri": "https://localhost:8080/"
        },
        "id": "8ziGP7YZHLMD",
        "outputId": "9a47799c-5a00-4bd1-eaee-ca10b87f4828"
      },
      "execution_count": 6,
      "outputs": [
        {
          "output_type": "stream",
          "name": "stdout",
          "text": [
            "4/84\n",
            "Solution 1 : (1, 3, 0, 2)\n",
            "xQxx\n",
            "xxxQ\n",
            "Qxxx\n",
            "xxQx\n",
            "\n",
            "\n",
            "\n",
            "Solution 2 : (2, 0, 3, 1)\n",
            "xxQx\n",
            "Qxxx\n",
            "xxxQ\n",
            "xQxx\n",
            "\n",
            "\n",
            "\n"
          ]
        }
      ]
    },
    {
      "cell_type": "markdown",
      "source": [
        "A*"
      ],
      "metadata": {
        "id": "vDZKyMJ_l5Eg"
      }
    },
    {
      "cell_type": "code",
      "source": [
        "from collections import deque\n",
        "\n",
        "class Graph:\n",
        "    def _init_(self, adjac_lis):\n",
        "        self.adjac_lis = adjac_lis\n",
        "\n",
        "    def get_neighbors(self, v):\n",
        "        return self.adjac_lis[v]\n",
        "\n",
        "    # This is heuristic function which is having equal values for all nodes\n",
        "    def h(self, n):\n",
        "        H = {\n",
        "            'A': 1,\n",
        "            'B': 1,\n",
        "            'C': 1,\n",
        "            'D': 1\n",
        "        }\n",
        "\n",
        "        return H[n]\n",
        "\n",
        "    def a_star_algorithm(self, start, stop):\n",
        "        # In this open_lst is a lisy of nodes which have been visited, but who's \n",
        "        # neighbours haven't all been always inspected, It starts off with the start \n",
        "  #node\n",
        "        # And closed_lst is a list of nodes which have been visited\n",
        "        # and who's neighbors have been always inspected\n",
        "        open_lst = set([start])\n",
        "        closed_lst = set([])\n",
        "\n",
        "        # poo has present distances from start to all other nodes\n",
        "        # the default value is +infinity\n",
        "        poo = {}\n",
        "        poo[start] = 0\n",
        "\n",
        "        # par contains an adjac mapping of all nodes\n",
        "        par = {}\n",
        "        par[start] = start\n",
        "\n",
        "        while len(open_lst) > 0:\n",
        "            n = None\n",
        "\n",
        "            # it will find a node with the lowest value of f() -\n",
        "            for v in open_lst:\n",
        "                if n == None or poo[v] + self.h(v) < poo[n] + self.h(n):\n",
        "                    n = v;\n",
        "\n",
        "            if n == None:\n",
        "                print('Path does not exist!')\n",
        "                return None\n",
        "\n",
        "            # if the current node is the stop\n",
        "            # then we start again from start\n",
        "            if n == stop:\n",
        "                reconst_path = []\n",
        "\n",
        "                while par[n] != n:\n",
        "                    reconst_path.append(n)\n",
        "                    n = par[n]\n",
        "\n",
        "                reconst_path.append(start)\n",
        "\n",
        "                reconst_path.reverse()\n",
        "\n",
        "                print('Path found: {}'.format(reconst_path))\n",
        "                return reconst_path\n",
        "\n",
        "            # for all the neighbors of the current node do\n",
        "            for (m, weight) in self.get_neighbors(n):\n",
        "              # if the current node is not presentin both open_lst and closed_lst\n",
        "                # add it to open_lst and note n as it's par\n",
        "                if m not in open_lst and m not in closed_lst:\n",
        "                    open_lst.add(m)\n",
        "                    par[m] = n\n",
        "                    poo[m] = poo[n] + weight\n",
        "\n",
        "                # otherwise, check if it's quicker to first visit n, then m\n",
        "                # and if it is, update par data and poo data\n",
        "                # and if the node was in the closed_lst, move it to open_lst\n",
        "                else:\n",
        "                    if poo[m] > poo[n] + weight:\n",
        "                        poo[m] = poo[n] + weight\n",
        "                        par[m] = n\n",
        "\n",
        "                        if m in closed_lst:\n",
        "                            closed_lst.remove(m)\n",
        "                            open_lst.add(m)\n",
        "\n",
        "            # remove n from the open_lst, and add it to closed_lst\n",
        "            # because all of his neighbors were inspected\n",
        "            open_lst.remove(n)\n",
        "            closed_lst.add(n)\n",
        "\n",
        "        print('Path does not exist!')\n",
        "        return None"
      ],
      "metadata": {
        "id": "mnS9BN5tl8aq"
      },
      "execution_count": 7,
      "outputs": []
    },
    {
      "cell_type": "markdown",
      "source": [
        "Decision Tree"
      ],
      "metadata": {
        "id": "vF4C9aHCml3D"
      }
    },
    {
      "cell_type": "code",
      "source": [
        "from sklearn import tree \n",
        "#Using DecisionTree classifier for prediction \n",
        "clf = tree.DecisionTreeClassifier() \n",
        "#Here the array contains three values which are height,weight and shoe size \n",
        "X = [[181, 80, 91], [182, 90, 92], [183, 100, 92], [184, 200, 93], [185, 300, 94], [186, 400, 95], \n",
        "[187, 500, 96], [189, 600, 97], [190, 700, 98], [191, 800, 99], [192, 900, 100], [193, 1000, 101]] \n",
        "Y = ['male', 'male', 'female', 'male' , 'female', 'male', 'female' , 'male' , 'female', 'male' , 'female' , \n",
        "'male' ] \n",
        "clf = clf.fit(X, Y) \n",
        "#Predicting on basis of given random values for each given feature \n",
        "predictionf = clf.predict([[181, 80, 91]])\n",
        "predictionm = clf.predict([[183, 100, 92]])\n",
        "#Printing final prediction \n",
        "print(predictionf)\n",
        "print(predictionm)"
      ],
      "metadata": {
        "colab": {
          "base_uri": "https://localhost:8080/"
        },
        "id": "7wKhDf2PmoP8",
        "outputId": "29b84132-c489-4de1-d5e0-f22b80cbea81"
      },
      "execution_count": 8,
      "outputs": [
        {
          "output_type": "stream",
          "name": "stdout",
          "text": [
            "['male']\n",
            "['female']\n"
          ]
        }
      ]
    },
    {
      "cell_type": "markdown",
      "source": [
        "Regression"
      ],
      "metadata": {
        "id": "Prlr8DzAnUNG"
      }
    },
    {
      "cell_type": "code",
      "source": [
        "from sklearn.neural_network import MLPRegressor\n",
        "from sklearn.model_selection import train_test_split\n",
        "from sklearn.datasets import make_regression\n",
        "import numpy as np\n",
        "import matplotlib.pyplot as plt\n",
        "import seaborn as sns\n",
        "%matplotlib inline\n",
        "X, y = make_regression(n_samples=1000, noise=0.05, n_features=100)\n",
        "X.shape, y.shape = ((1000, 100), (1000,))\n",
        "X_train, X_test, y_train, y_test = train_test_split(X, y, test_size=0.2, shuffle=True, random_state\n",
        "=42)\n",
        "clf = MLPRegressor(max_iter=1000)\n",
        "clf.fit(X_train, y_train)\n",
        "print(f\"R2 Score for Training Data = {clf.score(X_train, y_train)}\")\n",
        "print(f\"R2 Score for Test Data = {clf.score(X_test, y_test)}\")"
      ],
      "metadata": {
        "colab": {
          "base_uri": "https://localhost:8080/"
        },
        "id": "ZQkrvWPlnWx-",
        "outputId": "4eb48fd2-0792-4444-c360-e5f70cce1381"
      },
      "execution_count": 9,
      "outputs": [
        {
          "output_type": "stream",
          "name": "stdout",
          "text": [
            "R2 Score for Training Data = 0.999952319837485\n",
            "R2 Score for Test Data = 0.9794933037109281\n"
          ]
        },
        {
          "output_type": "stream",
          "name": "stderr",
          "text": [
            "/usr/local/lib/python3.7/dist-packages/sklearn/neural_network/_multilayer_perceptron.py:696: ConvergenceWarning: Stochastic Optimizer: Maximum iterations (1000) reached and the optimization hasn't converged yet.\n",
            "  ConvergenceWarning,\n"
          ]
        }
      ]
    },
    {
      "cell_type": "markdown",
      "source": [
        "K means"
      ],
      "metadata": {
        "id": "DCfhC6RZnjRj"
      }
    },
    {
      "cell_type": "code",
      "source": [
        "import numpy as np\n",
        "import pandas as pd\n",
        "from matplotlib import pyplot as plt\n",
        "from sklearn.datasets._samples_generator import make_blobs\n",
        "from sklearn.cluster import KMeans\n",
        "X, y = make_blobs(n_samples=300, centers=4, cluster_std=0.60, random_state=0)\n",
        "plt.scatter(X[:,0], X[:,1])\n",
        "wcss = []\n",
        "for i in range(1, 11):\n",
        " kmeans = KMeans(n_clusters=i, init='k-means++', max_iter=300, n_init=10, random_state=0)\n",
        " kmeans.fit(X)\n",
        " wcss.append(kmeans.inertia_)\n",
        "plt.plot(range(1, 11), wcss)\n",
        "plt.title('Elbow Method')\n",
        "plt.xlabel('Number of clusters')\n",
        "plt.ylabel('WCSS')\n",
        "plt.show()\n",
        "kmeans = KMeans(n_clusters=4, init='k-means++', max_iter=300, n_init=10, random_state=0)\n",
        "pred_y = kmeans.fit_predict(X)\n",
        "plt.scatter(X[:,0], X[:,1])\n",
        "plt.scatter(kmeans.cluster_centers_[:, 0], kmeans.cluster_centers_[:, 1], s=300, c='red')\n",
        "plt.show()"
      ],
      "metadata": {
        "colab": {
          "base_uri": "https://localhost:8080/",
          "height": 543
        },
        "id": "C1afvmZlnkqb",
        "outputId": "419d5edb-2b0f-4cf3-a4d8-3799d3a44894"
      },
      "execution_count": 10,
      "outputs": [
        {
          "output_type": "display_data",
          "data": {
            "image/png": "[encoded data removed]",
            "text/plain": [
              "<Figure size 432x288 with 1 Axes>"
            ]
          },
          "metadata": {
            "needs_background": "light"
          }
        },
        {
          "output_type": "display_data",
          "data": {
            "image/png": "[encoded data removed]",
            "text/plain": [
              "<Figure size 432x288 with 1 Axes>"
            ]
          },
          "metadata": {
            "needs_background": "light"
          }
        }
      ]
    }
  ]
}